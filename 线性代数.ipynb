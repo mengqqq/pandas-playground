{
 "cells": [
  {
   "cell_type": "markdown",
   "metadata": {},
   "source": [
    "<font size=\"5\">**线性代数：机器学习背后的优化原理**</font><br/><br/>\n",
    "**<font size=\"3\">1、标量，向量，矩阵，张量</font>**<br/>\n",
    "1.1.1计算并绘制2v-w的结果"
   ]
  },
  {
   "cell_type": "code",
   "execution_count": 5,
   "metadata": {},
   "outputs": [
    {
     "data": {
      "image/png": "[encoded data removed]",
      "text/plain": [
       "<matplotlib.figure.Figure at 0x19ce4591860>"
      ]
     },
     "metadata": {},
     "output_type": "display_data"
    }
   ],
   "source": [
    "#导入numpy包\n",
    "import numpy as np\n",
    "v=np.array([4,1])\n",
    "w=np.array([-1,2])\n",
    "two_v=2*v\n",
    "n=two_v-w\n",
    "#导入绘图包\n",
    "import matplotlib.pyplot as plt\n",
    "%matplotlib inline\n",
    "ax=plt.axes()\n",
    "ax.arrow(0,0,*two_v,color=\"b\",linestyle=\"dotted\",linewidth=2.5,head_width=0.30,head_length=0.35)\n",
    "ax.arrow(0,0,*w,color=\"r\",linestyle=\"dotted\",linewidth=2.5,head_width=0.3,head_length=0.35)\n",
    "ax.arrow(two_v[0],two_v[1],*n,linewidth=2.5,head_width=0.30,head_length=0.35)#老师您好，三个点的位置都挨个换过了，还不及目前看到的效果，是不是三个点的定义错了？老师，我这等学渣，您还是直接告诉我吧，掘地三尺也摸索不出来，\n",
    "plt.xlim(-2,10)\n",
    "plt.ylim(-2,4)\n",
    "plt.grid()\n",
    "plt.show()"
   ]
  },
  {
   "cell_type": "markdown",
   "metadata": {},
   "source": [
    "**1.1.2绘制方程组，说明是否有解是否为唯一解，若有解需计算出方程组的解 **<br/>\n",
    "y=2x+1<br/>\n",
    "y=0.1x+6"
   ]
  },
  {
   "cell_type": "code",
   "execution_count": 6,
   "metadata": {},
   "outputs": [
    {
     "name": "stdout",
     "output_type": "stream",
     "text": [
      "{x: 2.63157894736842, y: 6.26315789473684}\n"
     ]
    }
   ],
   "source": [
    "#导入工科数学包\n",
    "from sympy import *\n",
    "#定义未知数X\n",
    "x=Symbol(\"x\")\n",
    "#定义未知数y\n",
    "y=Symbol(\"y\")\n",
    "#打印方程组求解的结果\n",
    "print(solve([y-2*x-1,y-(1/10)*x-6],[x,y]))"
   ]
  },
  {
   "cell_type": "code",
   "execution_count": 10,
   "metadata": {},
   "outputs": [
    {
     "data": {
      "image/png": "[encoded data removed]",
      "text/plain": [
       "<matplotlib.figure.Figure at 0x19ce67f4ef0>"
      ]
     },
     "metadata": {},
     "output_type": "display_data"
    }
   ],
   "source": [
    "#方程组可视化\n",
    "#囧，老师，我太愚钝了，您说的方法我不知该怎么补全\n",
    "x_1=np.linspace(0,10,100)\n",
    "y_1=2*x_1+1\n",
    "plt.plot(x_1,y_1)\n",
    "x_2=np.linspace(0,10,100)\n",
    "y_2=0.1*x_2+6\n",
    "plt.plot(x_2,y_2)\n",
    "plt.show()"
   ]
  },
  {
   "cell_type": "markdown",
   "metadata": {},
   "source": [
    "**1.2.1使用numpy（或自写算法）说明(AB)^T=B^T*A^T **"
   ]
  },
  {
   "cell_type": "code",
   "execution_count": 34,
   "metadata": {},
   "outputs": [],
   "source": [
    "#定义A矩阵\n",
    "A=[[21,7],\n",
    "   [15,42],\n",
    "   [9,6]]\n",
    "#定义B矩阵\n",
    "B=[[4],\n",
    "   [33]]"
   ]
  },
  {
   "cell_type": "code",
   "execution_count": 35,
   "metadata": {},
   "outputs": [
    {
     "name": "stdout",
     "output_type": "stream",
     "text": [
      "[[ 315 1446  234]]\n"
     ]
    }
   ],
   "source": [
    "#AB矩阵相乘\n",
    "mul_AB=np.matmul(A,B)\n",
    "#将相乘后的AB矩阵结果转置并打印出来\n",
    "tran_mulAB=np.transpose(mul_AB)\n",
    "print(tran_mulAB)"
   ]
  },
  {
   "cell_type": "code",
   "execution_count": 36,
   "metadata": {},
   "outputs": [
    {
     "name": "stdout",
     "output_type": "stream",
     "text": [
      "[[ 315 1446  234]]\n"
     ]
    }
   ],
   "source": [
    "#将A矩阵进行转置\n",
    "tran_A=np.transpose(A)\n",
    "#将B矩阵进行转置\n",
    "tran_B=np.transpose(B)\n",
    "#将转置后的B矩阵与转置后的A矩阵相乘，并打印出来\n",
    "tranA_tranB=np.matmul(tran_B,tran_A)\n",
    "print(tranA_tranB)"
   ]
  },
  {
   "cell_type": "markdown",
   "metadata": {},
   "source": [
    "**1.2.2使用numpy（或自写算法）说明A(B+C)=AB+AC<br/>**"
   ]
  },
  {
   "cell_type": "code",
   "execution_count": 44,
   "metadata": {},
   "outputs": [
    {
     "name": "stdout",
     "output_type": "stream",
     "text": [
      "[[117]\n",
      " [116]\n",
      " [124]]\n"
     ]
    }
   ],
   "source": [
    "#定义A矩阵\n",
    "A=np.array([[9,3],\n",
    "   [8,4],\n",
    "   [7,6]])\n",
    "#定义B矩阵\n",
    "B=np.array([[5],\n",
    "   [2]])\n",
    "#定义C矩阵\n",
    "C=np.array([[5],\n",
    "   [7]])\n",
    "#计算B+C结果赋值给D\n",
    "D=B+C\n",
    "#计算A乘D的结果赋值给E\n",
    "mulAD=np.matmul(A,D)\n",
    "print(mulAD)"
   ]
  },
  {
   "cell_type": "code",
   "execution_count": 45,
   "metadata": {},
   "outputs": [
    {
     "name": "stdout",
     "output_type": "stream",
     "text": [
      "[[117]\n",
      " [116]\n",
      " [124]]\n"
     ]
    }
   ],
   "source": [
    "#计算AB结果\n",
    "mul_AB=np.matmul(A,B)\n",
    "#计算AC结果\n",
    "mul_AC=np.matmul(A,C)\n",
    "#计算AB+AC的结果\n",
    "sum_AB_AC=mul_AB+mul_AC\n",
    "print(sum_AB_AC)"
   ]
  },
  {
   "cell_type": "markdown",
   "metadata": {},
   "source": [
    "**2.1、证明题 通过LaTeX公式，结合概念，假设存在的情况下，证明的解 Ax=b的解x=A^(-1)b**"
   ]
  },
  {
   "cell_type": "code",
   "execution_count": 69,
   "metadata": {},
   "outputs": [
    {
     "name": "stdout",
     "output_type": "stream",
     "text": [
      "[[2 4]\n",
      " [6 8]]\n",
      "2\n"
     ]
    }
   ],
   "source": [
    "#定义一个矩阵A两行两列\n",
    "A=np.array([[1,2],[3,4]])\n",
    "x=2\n",
    "b=A*x\n",
    "print(b)\n",
    "print(x)"
   ]
  },
  {
   "cell_type": "code",
   "execution_count": 75,
   "metadata": {},
   "outputs": [
    {
     "name": "stdout",
     "output_type": "stream",
     "text": [
      "[[2.0000000e+00 8.8817842e-16]\n",
      " [0.0000000e+00 2.0000000e+00]]\n"
     ]
    }
   ],
   "source": [
    "#计算矩阵的逆\n",
    "invA=np.linalg.inv(A)\n",
    "x=np.matmul(invA,b)\n",
    "print(x)"
   ]
  },
  {
   "cell_type": "markdown",
   "metadata": {},
   "source": [
    "**2.2.1通过numpy计算，再次验证2.1证明题  并用LaTeX公式写出A^(-1)是多少（小数分数皆可）<br/>**\n",
    "y=2x+1<br/>\n",
    "y=0.1x+6"
   ]
  },
  {
   "cell_type": "code",
   "execution_count": 64,
   "metadata": {},
   "outputs": [
    {
     "name": "stdout",
     "output_type": "stream",
     "text": [
      "[[ 0.52631579 -0.52631579]\n",
      " [ 0.05263158 -1.05263158]]\n"
     ]
    }
   ],
   "source": [
    "#将方程改写成矩阵相乘的形式\n",
    "A=np.array([[2,-1],[0.1,-1]])\n",
    "#计算A的逆\n",
    "invA=np.linalg.inv(A)\n",
    "print(invA)"
   ]
  },
  {
   "cell_type": "markdown",
   "metadata": {},
   "source": [
    "**2.2.2**<br/>\n",
    "**1**、请用numpy（或自写算法）实现一个6x6的对角矩阵，矩阵的对角线由3至8（含8）组成。<br/>\n",
    "**2**、计算第一问生成的对角矩阵与向量的乘积"
   ]
  },
  {
   "cell_type": "code",
   "execution_count": 19,
   "metadata": {},
   "outputs": [
    {
     "data": {
      "text/plain": [
       "array([[4, 0, 0, 0, 0, 0],\n",
       "       [0, 8, 0, 0, 0, 0],\n",
       "       [0, 0, 5, 0, 0, 0],\n",
       "       [0, 0, 0, 7, 0, 0],\n",
       "       [0, 0, 0, 0, 4, 0],\n",
       "       [0, 0, 0, 0, 0, 4]])"
      ]
     },
     "execution_count": 19,
     "metadata": {},
     "output_type": "execute_result"
    }
   ],
   "source": [
    "#定义一个6行6列的对角矩阵,矩阵的对角线由3至8（含8）组成\n",
    "M=np.array([[np.random.randint(3,9) if i==j else 0 for i in range(6)] for j in range(6)])\n",
    "M"
   ]
  },
  {
   "cell_type": "code",
   "execution_count": 31,
   "metadata": {},
   "outputs": [
    {
     "name": "stdout",
     "output_type": "stream",
     "text": [
      "[[6 7 1 2 5 9]]\n",
      "[[6]\n",
      " [7]\n",
      " [1]\n",
      " [2]\n",
      " [5]\n",
      " [9]]\n"
     ]
    },
    {
     "data": {
      "text/plain": [
       "array([[24],\n",
       "       [56],\n",
       "       [ 5],\n",
       "       [14],\n",
       "       [20],\n",
       "       [36]])"
      ]
     },
     "execution_count": 31,
     "metadata": {},
     "output_type": "execute_result"
    }
   ],
   "source": [
    "#定义一个向量N [6,7,1,2,5,9]^T\n",
    "N=np.array([[6,7,1,2,5,9]])\n",
    "tran_N=np.transpose(N)\n",
    "print(N)\n",
    "print(tran_N)\n",
    "\n",
    "#计算M*N^T的值，赋值给M_tran_N\n",
    "M_tran_N=np.matmul(M,tran_N)\n",
    "M_tran_N"
   ]
  },
  {
   "cell_type": "markdown",
   "metadata": {},
   "source": [
    "**3**<br/>\n",
    "使用numpy验证迹运算返回的是矩阵对角元素的和Tr(ABC)=Tr(CAB)=Tr(BCA)"
   ]
  },
  {
   "cell_type": "code",
   "execution_count": 55,
   "metadata": {},
   "outputs": [
    {
     "name": "stdout",
     "output_type": "stream",
     "text": [
      "[[ 262 1891]\n",
      " [ 539 3878]]\n",
      "[[3039 3609]\n",
      " [ 928 1101]]\n",
      "[[3447  441]\n",
      " [5424  693]]\n",
      "4140\n",
      "4140\n",
      "4140\n"
     ]
    }
   ],
   "source": [
    "#定义A,B,C三个矩阵\n",
    "A=np.array([[7,6],[29,3]])\n",
    "B=np.array([[5,6],[8,9]])\n",
    "C=np.array([[2,17],[1,5]])\n",
    "#分别计算ABC，CAB，BCA的迹\n",
    "AB=np.matmul(A,B)\n",
    "ABC=np.matmul(AB,C)\n",
    "CA=np.matmul(C,A)\n",
    "CAB=np.matmul(CA,B)\n",
    "BC=np.matmul(B,C)\n",
    "BCA=np.matmul(BC,A)\n",
    "print(ABC)\n",
    "print(CAB)\n",
    "print(BCA)\n",
    "trac_ABC=np.trace(ABC)\n",
    "trac_CAB=np.trace(CAB)\n",
    "trac_BCA=np.trace(BCA)\n",
    "print(trac_ABC)\n",
    "print(trac_CAB)\n",
    "print(trac_BCA)"
   ]
  },
  {
   "cell_type": "markdown",
   "metadata": {},
   "source": [
    "**4.1、计算向量的范数**<br/>\n",
    "编写一个函数来计算一下向量的各种范数。"
   ]
  },
  {
   "cell_type": "code",
   "execution_count": 12,
   "metadata": {},
   "outputs": [],
   "source": [
    "# TODO 实现这里向量范数计算的函数，要求可以计算p = 0,1,2,3 ... 无穷 情况下的范数\n",
    "\n",
    "\"\"\" 计算向量的范数\n",
    "    参数\n",
    "        x: 向量 numpy数组 或者list数组\n",
    "        p: 范数的阶，int型整数或者None\n",
    "        infty: 是否计算max范数，bool型变量，True的时候表示计算max范数，False的时候计算p范数\n",
    "        \n",
    "    返回\n",
    "        向量的范数，float类型数值\n",
    "        \n",
    "    hint:\n",
    "        1.你需要首先判断infty是True or False, 然后判断p 是否为零\n",
    "        2.注意int类型变量在计算时候需要规整为float类型\n",
    "    \n",
    "\"\"\"\n",
    "x=np.array([[1,2],[3,4]])\n",
    "def calc_Norm(x, p = 2, infty = False):\n",
    "    pass"
   ]
  },
  {
   "cell_type": "code",
   "execution_count": 13,
   "metadata": {},
   "outputs": [
    {
     "name": "stderr",
     "output_type": "stream",
     "text": [
      "ERROR:root:File `'test.py'` not found.\n"
     ]
    }
   ],
   "source": [
    "%run -i -e test.py LinearRegressionTestCase.test_calc_Norm"
   ]
  },
  {
   "cell_type": "markdown",
   "metadata": {},
   "source": [
    "**4.2、计算矩阵的范数**"
   ]
  },
  {
   "cell_type": "code",
   "execution_count": 77,
   "metadata": {},
   "outputs": [],
   "source": [
    "# TODO 实现这里矩阵Frobenius范数计算的函数\n",
    "\n",
    "\"\"\" 计算向量的范数\n",
    "    参数\n",
    "        A: 给定的任意二维矩阵 list或者numpy数组形式\n",
    "        \n",
    "    返回\n",
    "        矩阵的Frobenius范数，float类型数值\n",
    "    \n",
    "\"\"\"\n",
    "def calc_Frobenius_Norm(A):\n",
    "    pass"
   ]
  },
  {
   "cell_type": "code",
   "execution_count": 78,
   "metadata": {},
   "outputs": [
    {
     "name": "stderr",
     "output_type": "stream",
     "text": [
      "ERROR:root:File `'test.py'` not found.\n"
     ]
    }
   ],
   "source": [
    "%run -i -e test.py LinearRegressionTestCase.test_calc_Frobenius_Norm"
   ]
  },
  {
   "cell_type": "markdown",
   "metadata": {},
   "source": [
    "**4.3、计算矩阵的条件数**"
   ]
  },
  {
   "cell_type": "code",
   "execution_count": null,
   "metadata": {},
   "outputs": [],
   "source": [
    "\"\"\" 计算矩阵的条件数\n",
    "    参数\n",
    "        A: 给定的任意二维矩阵 list或者numpy数组形式\n",
    "        \n",
    "    返回\n",
    "        矩阵的condition number,\n",
    "    \n",
    "\"\"\"\n",
    "def calc_Condition_Number(A):\n",
    "    pass"
   ]
  },
  {
   "cell_type": "code",
   "execution_count": null,
   "metadata": {},
   "outputs": [],
   "source": [
    "%run -i -e test.py LinearRegressionTestCase.test_calc_Condition_Number"
   ]
  },
  {
   "cell_type": "code",
   "execution_count": null,
   "metadata": {},
   "outputs": [],
   "source": []
  }
 ],
 "metadata": {
  "kernelspec": {
   "display_name": "Python 3",
   "language": "python",
   "name": "python3"
  },
  "language_info": {
   "codemirror_mode": {
    "name": "ipython",
    "version": 3
   },
   "file_extension": ".py",
   "mimetype": "text/x-python",
   "name": "python",
   "nbconvert_exporter": "python",
   "pygments_lexer": "ipython3",
   "version": "3.6.4"
  }
 },
 "nbformat": 4,
 "nbformat_minor": 2
}
